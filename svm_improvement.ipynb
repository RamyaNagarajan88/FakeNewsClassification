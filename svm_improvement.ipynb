{
 "metadata": {
  "language_info": {
   "codemirror_mode": {
    "name": "ipython",
    "version": 3
   },
   "file_extension": ".py",
   "mimetype": "text/x-python",
   "name": "python",
   "nbconvert_exporter": "python",
   "pygments_lexer": "ipython3",
   "version": "3.9.5"
  },
  "orig_nbformat": 4,
  "kernelspec": {
   "name": "python3",
   "display_name": "Python 3.9.5 64-bit"
  },
  "interpreter": {
   "hash": "f9f85f796d01129d0dd105a088854619f454435301f6ffec2fea96ecbd9be4ac"
  }
 },
 "nbformat": 4,
 "nbformat_minor": 2,
 "cells": [
  {
   "cell_type": "code",
   "execution_count": 2,
   "metadata": {},
   "outputs": [],
   "source": [
    "# svm has proved better performance. I check to see if I can improve its performance."
   ]
  },
  {
   "cell_type": "code",
   "execution_count": 36,
   "metadata": {},
   "outputs": [],
   "source": [
    "import pandas as pd\n",
    "import numpy as np\n",
    "import string\n",
    "import re\n",
    "from sklearn.feature_extraction.text import TfidfVectorizer\n",
    "from sklearn.feature_extraction._stop_words import ENGLISH_STOP_WORDS\n",
    "from sklearn.model_selection import train_test_split\n",
    "from sklearn.metrics import f1_score,confusion_matrix,make_scorer,classification_report\n",
    "from sklearn.svm import SVC\n",
    "from sklearn.model_selection import GridSearchCV, cross_val_score\n"
   ]
  },
  {
   "cell_type": "code",
   "execution_count": 4,
   "metadata": {},
   "outputs": [],
   "source": [
    "data=pd.read_csv('news_data.csv')"
   ]
  },
  {
   "cell_type": "code",
   "execution_count": 5,
   "metadata": {},
   "outputs": [],
   "source": [
    "data.rename(columns={'Unnamed: 0':'news_id','text':'news_details'},inplace=True)"
   ]
  },
  {
   "cell_type": "code",
   "execution_count": 6,
   "metadata": {},
   "outputs": [],
   "source": [
    "data['label']=data['label'].map({'FAKE':0,'REAL':1})"
   ]
  },
  {
   "cell_type": "code",
   "execution_count": 7,
   "metadata": {},
   "outputs": [],
   "source": [
    "def convertlower(s):\n",
    "    return s.lower()\n",
    "def removeWhiteSpaces(s):\n",
    "    return s.strip()\n",
    "def removePunctuations(s):\n",
    "    return s.translate(str.maketrans('','',string.punctuation))\n",
    "def removeNumbers(s):\n",
    "    return re.sub(r'\\d+','',s)\n",
    "def removeURL(s):\n",
    "    return re.sub(r'^https?:\\/\\/.*[\\r\\n]*','',s)\n",
    "def removeTags(s):\n",
    "    remove_tags=re.compile('<.*?>')\n",
    "    return re.sub(remove_tags,'',s)\n"
   ]
  },
  {
   "cell_type": "code",
   "execution_count": 8,
   "metadata": {},
   "outputs": [],
   "source": [
    "col_to_clean=['title','news_details']\n",
    "for col in col_to_clean:\n",
    "    data[col]=data[col].apply(convertlower)\n",
    "    data[col]=data[col].apply(removeWhiteSpaces)\n",
    "    data[col]=data[col].apply(removePunctuations)\n",
    "    data[col]=data[col].apply(removeNumbers)\n",
    "    data[col]=data[col].apply(removeURL)\n",
    "    data[col]=data[col].apply(removeTags)"
   ]
  },
  {
   "cell_type": "code",
   "execution_count": 9,
   "metadata": {},
   "outputs": [],
   "source": [
    "tfidf=TfidfVectorizer(stop_words=ENGLISH_STOP_WORDS,max_df=0.8,min_df=0.2)"
   ]
  },
  {
   "cell_type": "code",
   "execution_count": 10,
   "metadata": {},
   "outputs": [],
   "source": [
    "tfidf_matrix_news_details=tfidf.fit_transform(data['news_details'])"
   ]
  },
  {
   "cell_type": "code",
   "execution_count": 11,
   "metadata": {},
   "outputs": [],
   "source": [
    "tfidf_title=TfidfVectorizer(stop_words=ENGLISH_STOP_WORDS,max_df=0.8,min_df=0.01)"
   ]
  },
  {
   "cell_type": "code",
   "execution_count": 24,
   "metadata": {},
   "outputs": [],
   "source": [
    "X_train,X_test,y_train,y_test=train_test_split(tfidf_matrix_news_details,np.array(data['label']),test_size=0.2,random_state=42)"
   ]
  },
  {
   "cell_type": "code",
   "execution_count": 25,
   "metadata": {},
   "outputs": [],
   "source": [
    "def svmclf(clf,X,y_true):\n",
    "    y_pred=clf.predict(X) \n",
    "    score=f1_score(y_true,y_pred,average='weighted')\n",
    "    cm=pd.DataFrame(confusion_matrix(y_true,y_pred),columns=['0','1'],index=['0','1'])\n",
    "    return score,cm"
   ]
  },
  {
   "cell_type": "code",
   "execution_count": 14,
   "metadata": {},
   "outputs": [
    {
     "output_type": "execute_result",
     "data": {
      "text/plain": [
       "SVC()"
      ]
     },
     "metadata": {},
     "execution_count": 14
    }
   ],
   "source": [
    "clf=SVC()\n",
    "clf.fit(X_train,y_train)"
   ]
  },
  {
   "cell_type": "code",
   "execution_count": 15,
   "metadata": {},
   "outputs": [],
   "source": [
    "score_test,cm_test=svmclf(clf,X_test,y_test)\n",
    "score_train,cm_train=svmclf(clf,X_train,y_train)"
   ]
  },
  {
   "cell_type": "code",
   "execution_count": 16,
   "metadata": {},
   "outputs": [
    {
     "output_type": "execute_result",
     "data": {
      "text/plain": [
       "(0.8500168547934291, 0.9190780184495986)"
      ]
     },
     "metadata": {},
     "execution_count": 16
    }
   ],
   "source": [
    "score_test,score_train"
   ]
  },
  {
   "cell_type": "code",
   "execution_count": 17,
   "metadata": {},
   "outputs": [],
   "source": [
    "f1=make_scorer(f1_score,average='weighted')"
   ]
  },
  {
   "cell_type": "code",
   "execution_count": 18,
   "metadata": {},
   "outputs": [
    {
     "output_type": "execute_result",
     "data": {
      "text/plain": [
       "GridSearchCV(cv=10, estimator=SVC(class_weight='balanced'),\n",
       "             param_grid={'C': [0.1, 1, 10, 100, 1000],\n",
       "                         'gamma': [0.0001, 0.001, 0.01, 0.1, 1],\n",
       "                         'kernel': ['linear', 'poly', 'rbf']},\n",
       "             scoring=make_scorer(f1_score, average=weighted))"
      ]
     },
     "metadata": {},
     "execution_count": 18
    }
   ],
   "source": [
    "grid_params={\n",
    "    'kernel':['linear','poly','rbf'],\n",
    "    'C':[0.1,1,10,100,1000],\n",
    "    'gamma':[0.0001,0.001,0.01,0.1,1],\n",
    "    }\n",
    "gridclf=GridSearchCV(SVC(class_weight='balanced'),param_grid=grid_params,cv=10,return_train_score=False,scoring=f1)\n",
    "gridclf.fit(tfidf_matrix_news_details,np.array(data['label']))"
   ]
  },
  {
   "cell_type": "code",
   "execution_count": 19,
   "metadata": {},
   "outputs": [
    {
     "output_type": "execute_result",
     "data": {
      "text/plain": [
       "0.843311453484177"
      ]
     },
     "metadata": {},
     "execution_count": 19
    }
   ],
   "source": [
    "gridclf.best_score_"
   ]
  },
  {
   "cell_type": "code",
   "execution_count": 33,
   "metadata": {},
   "outputs": [
    {
     "output_type": "execute_result",
     "data": {
      "text/plain": [
       "{'C': 1, 'gamma': 1, 'kernel': 'rbf'}"
      ]
     },
     "metadata": {},
     "execution_count": 33
    }
   ],
   "source": [
    "gridclf.best_params_"
   ]
  },
  {
   "cell_type": "code",
   "execution_count": 34,
   "metadata": {},
   "outputs": [],
   "source": [
    "class_labels=['fake','real']"
   ]
  },
  {
   "cell_type": "code",
   "execution_count": 30,
   "metadata": {},
   "outputs": [],
   "source": [
    "grid_predictions=gridclf.predict(X_test)"
   ]
  },
  {
   "cell_type": "code",
   "execution_count": 35,
   "metadata": {},
   "outputs": [
    {
     "output_type": "stream",
     "name": "stdout",
     "text": [
      "              precision    recall  f1-score   support\n\n        fake       0.89      0.92      0.90       628\n        real       0.91      0.89      0.90       639\n\n    accuracy                           0.90      1267\n   macro avg       0.90      0.90      0.90      1267\nweighted avg       0.90      0.90      0.90      1267\n\n"
     ]
    }
   ],
   "source": [
    "print(classification_report(y_test,grid_predictions,target_names=class_labels))"
   ]
  },
  {
   "cell_type": "code",
   "execution_count": null,
   "metadata": {},
   "outputs": [],
   "source": []
  }
 ]
}